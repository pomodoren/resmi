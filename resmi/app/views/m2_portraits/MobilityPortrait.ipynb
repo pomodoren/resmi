{
 "cells": [
  {
   "cell_type": "markdown",
   "id": "59cb417f-2fab-40fd-b1cb-8ffa8739ba36",
   "metadata": {},
   "source": [
    "# A mobility portrait\n",
    "\n",
    "A mobility portrait based on OpenStreetMap (OSM) can provide a detailed and dynamic overview of urban transportation infrastructures, such as public transport routes, cycling lanes, and pedestrian pathways. Leveraging OSM's comprehensive and regularly updated dataset allows for accurate mapping and analysis of transit options, enhancing city planning and user navigation. Moreover, OSM's open-source nature encourages community contributions, ensuring the data remains diverse and up-to-date, which is crucial for maintaining an accurate mobility portrait of a city.\n"
   ]
  },
  {
   "cell_type": "code",
   "execution_count": null,
   "id": "2e68165a-1fa1-48a2-8db4-422581c9b794",
   "metadata": {},
   "outputs": [],
   "source": []
  },
  {
   "cell_type": "markdown",
   "id": "bf32bd86-be16-45fa-ba1c-14c481f2f72b",
   "metadata": {},
   "source": [
    "<br><br>\n",
    "\n",
    "## Public Transport\n",
    "\n",
    "For public transport, the backbone of data revolves around timetables, routes, fare information, and real-time location of services. Data covering accessibility features and multimodal connectivity can further enrich the user experience and accessibility.\n"
   ]
  },
  {
   "cell_type": "code",
   "execution_count": null,
   "id": "c12deace-a01d-45bd-b94d-cdfd104a45ea",
   "metadata": {},
   "outputs": [],
   "source": []
  },
  {
   "cell_type": "markdown",
   "id": "6921ec9a-8927-4420-9ab2-08d29419aff0",
   "metadata": {},
   "source": [
    "<br><br>\n",
    "## Cycling\n",
    "\n",
    "Cycling infrastructure data includes details on bike lanes, bike-sharing stations, parking availability, and maintenance facilities. The OpenStreetMap (OSM) platform is a valuable open data source that often includes detailed cycling infrastructure layers. Standardizing this data involves ensuring accurate and current representations of bike paths, designated street lanes, and shared routes.\n"
   ]
  },
  {
   "cell_type": "code",
   "execution_count": null,
   "id": "eaad3448-c8ff-47ec-bb3c-6b32ee9bbabf",
   "metadata": {},
   "outputs": [],
   "source": []
  },
  {
   "cell_type": "markdown",
   "id": "2f372bb0-807e-4b9f-bd1c-5da4a172a628",
   "metadata": {},
   "source": [
    "<br><br>\n",
    "\n",
    "\n",
    "## Taxi, electric, micromobility\n",
    "\n",
    "In modern urban environments, mobility extends beyond traditional road infrastructure to embrace innovative transport options. Taxis and micromobility solutions, including bicycles and electric scooters, enhance short-range travel and last-mile connectivity, while electric charging stations support the growing adoption of electric vehicles. These developments collectively facilitate a sustainable transition in urban transport, reducing congestion and urban pollution, and aligning with broader environmental goals.\n"
   ]
  },
  {
   "cell_type": "code",
   "execution_count": null,
   "id": "c4b861ce-f2b5-4035-ab11-5d9a39cdf4fd",
   "metadata": {},
   "outputs": [],
   "source": []
  },
  {
   "cell_type": "markdown",
   "id": "73cc190a-d517-41d8-9412-8830df6ab478",
   "metadata": {},
   "source": [
    "<br><br>\n",
    "\n",
    "## Walking\n",
    "\n",
    "Data for walking focuses on pedestrian pathways, crosswalks, sidewalk widths, obstacles, and points of interest like public benches, fountains, or shade-providing trees. \n"
   ]
  },
  {
   "cell_type": "code",
   "execution_count": null,
   "id": "9738c576-d881-4bc3-aed7-88c33389be21",
   "metadata": {},
   "outputs": [],
   "source": []
  },
  {
   "cell_type": "markdown",
   "id": "ef9ecd22-0e1d-433c-8b82-53cd6fc00807",
   "metadata": {},
   "source": [
    "<br><br>\n",
    "\n",
    "## Parking\n",
    "\n",
    "Parking data encompasses locations, capacities, type (e.g., street, garage, reserved for disabilities), pricing, and real-time availability.\n"
   ]
  },
  {
   "cell_type": "code",
   "execution_count": null,
   "id": "71fe7738-c365-48a4-9e3a-f8892441edf0",
   "metadata": {},
   "outputs": [],
   "source": []
  },
  {
   "cell_type": "markdown",
   "id": "2bd0706d-2721-488c-99aa-a054ff5e8e31",
   "metadata": {},
   "source": [
    "<br><br>\n",
    "\n",
    "\n",
    "## Urban Logistics\n",
    "\n",
    "Urban logistics data involves information about loading zones, delivery windows, vehicle restrictions, and traffic patterns. Effective data management for urban logistics requires standards that address the unique needs of freight operations in city environments. "
   ]
  },
  {
   "cell_type": "code",
   "execution_count": null,
   "id": "029da3b4-a0ad-4660-963b-823ce31084fa",
   "metadata": {},
   "outputs": [],
   "source": []
  },
  {
   "cell_type": "markdown",
   "id": "c5492835-f2ae-4458-bffb-26b453c6287a",
   "metadata": {},
   "source": [
    "<br><br>\n",
    "\n",
    "## Road Infrastructure\n",
    "\n",
    "Road infrastructure is a critical component of urban and regional development, consisting of a hierarchical network of road types designed to optimize traffic flow and ensure accessibility. Main roads or arterials serve as the primary network for high-volume traffic, connecting major urban centers and facilitating efficient long-distance travel. Secondary roads support this by linking smaller towns and residential areas to the main arteries, handling moderate traffic volumes. Service roads provide local access and distribution, often accompanying main roads and allowing entry to individual properties without disrupting major traffic flows. In addition to these established roads, those under construction are crucial for expanding and improving the existing network, addressing the evolving needs of urban growth and transportation.\n"
   ]
  },
  {
   "cell_type": "code",
   "execution_count": null,
   "id": "01e62d17-2962-4d91-addd-11b76ab9fca2",
   "metadata": {},
   "outputs": [],
   "source": []
  },
  {
   "cell_type": "markdown",
   "id": "ea48332e-4afc-4b66-80ad-3179e9c9e7d4",
   "metadata": {},
   "source": [
    "<br><br>\n",
    "\n",
    "## Road Assets\n",
    "\n",
    "Road assets encompass a wide array of infrastructure components that are essential for the maintenance, safety, and efficiency of transportation networks. These assets include physical elements like roads, bridges, tunnels, and traffic signals, as well as more transient features such as signage, lighting, and roadside barriers. Management of these assets involves detailed planning and deployment of maintenance schedules to ensure their longevity and functionality. "
   ]
  },
  {
   "cell_type": "code",
   "execution_count": null,
   "id": "76b29488-6b45-48a0-952c-677cdf4861a1",
   "metadata": {},
   "outputs": [],
   "source": []
  },
  {
   "cell_type": "code",
   "execution_count": 56,
   "id": "2e1ca14c-4afd-4fd4-ba85-feecc94fea43",
   "metadata": {},
   "outputs": [
    {
     "name": "stdout",
     "output_type": "stream",
     "text": [
      "('[out:json][timeout:50]; area[\"name\"=\"Tiranë\"]->.searchArea; '\n",
      " '(node[\"highway\"=\"bus_stop\"](area.searchArea);); out body geom; >; out skel '\n",
      " 'qt;')\n"
     ]
    }
   ],
   "source": [
    "import requests\n",
    "import json\n",
    "import folium\n",
    "import pprint"
   ]
  },
  {
   "cell_type": "code",
   "execution_count": null,
   "id": "505125e4-c5d3-4990-b56d-4496dc495743",
   "metadata": {},
   "outputs": [],
   "source": [
    "with open('queries/mobility_potrait.json') as f:\n",
    "    data_queries = json.load(f)\n",
    "query = data_queries['public_transport_stops']['query'].replace('__CITY__', 'Tiranë')\n",
    "\n",
    "pprint.pprint(query)"
   ]
  },
  {
   "cell_type": "code",
   "execution_count": 58,
   "id": "fab479d0-7141-4914-8417-4d897a18a51a",
   "metadata": {
    "scrolled": true
   },
   "outputs": [
    {
     "data": {
      "text/plain": [
       "dict_keys(['version', 'generator', 'osm3s', 'elements'])"
      ]
     },
     "execution_count": 58,
     "metadata": {},
     "output_type": "execute_result"
    }
   ],
   "source": [
    "url = \"http://overpass-api.de/api/interpreter\"\n",
    "\n",
    "response = requests.get(url, params={'data': query})\n",
    "data = response.json()\n",
    "\n",
    "data.keys()"
   ]
  },
  {
   "cell_type": "code",
   "execution_count": null,
   "id": "c90b0c34-7a10-4e01-91ea-ca54a5ab167f",
   "metadata": {},
   "outputs": [],
   "source": []
  },
  {
   "cell_type": "code",
   "execution_count": 73,
   "id": "cc6cce83-81e1-4cd3-b447-b34146c01eb4",
   "metadata": {},
   "outputs": [
    {
     "data": {
      "application/vnd.jupyter.widget-view+json": {
       "model_id": "5bf4067be22347c187ca8bd89bcceab0",
       "version_major": 2,
       "version_minor": 0
      },
      "text/plain": [
       "Tab(children=(VBox(children=(HTML(value='<div style=\"width:100%;\"><div style=\"position:relative;width:100%;hei…"
      ]
     },
     "metadata": {},
     "output_type": "display_data"
    }
   ],
   "source": [
    "import folium\n",
    "import ipywidgets as widgets\n",
    "from IPython.display import display\n",
    "\n",
    "# Define color scheme\n",
    "color_good = '#008000'  # Green\n",
    "color_bad = '#FF0000'   # Red\n",
    "color_missing = '#FFFF00'  # Yellow\n",
    "\n",
    "# Helper function to create a Folium map\n",
    "def create_map(location=[41.3275, 19.8189], zoom_start=13, elements=None):\n",
    "    m = folium.Map(location=location, zoom_start=zoom_start)\n",
    "    \n",
    "    # Example: Add elements to the map\n",
    "    if elements:\n",
    "        for element in elements:\n",
    "            folium.CircleMarker(\n",
    "                location=element['location'],\n",
    "                radius=5,\n",
    "                color=element['color'],\n",
    "                fill=True,\n",
    "                fill_color=element['color'],\n",
    "                fill_opacity=0.7,\n",
    "                tooltip=element['tooltip']\n",
    "            ).add_to(m)\n",
    "    \n",
    "    # Add a legend to the map\n",
    "    legend_html = \"\"\"\n",
    "    <div style=\"position: fixed; \n",
    "                bottom: 50px; left: 50px; width: 100px; height: 70px; \n",
    "                border:2px solid grey; z-index:9999; font-size:14px;\n",
    "                background-color:white; padding: 10px;\">\n",
    "        <b>Legend:</b><br>\n",
    "        <i style=\"background:{}; width: 10px; height: 10px; display: inline-block;\"></i> Good (Green)<br>\n",
    "        <i style=\"background:{}; width: 10px; height: 10px; display: inline-block;\"></i> Bad (Red)<br>\n",
    "        <i style=\"background:{}; width: 10px; height: 10px; display: inline-block;\"></i> Missing Data (Yellow)<br>\n",
    "    </div>\n",
    "    \"\"\".format(color_good, color_bad, color_missing)\n",
    "    m.get_root().html.add_child(folium.Element(legend_html))\n",
    "    \n",
    "    return m\n",
    "\n",
    "# Example elements data (replace this with actual data)\n",
    "example_elements = [\n",
    "    {'location': [41.3275, 19.8189], 'color': color_good, 'tooltip': 'Good Bus Stop'},\n",
    "    {'location': [41.3300, 19.8200], 'color': color_bad, 'tooltip': 'Bad Bus Stop'},\n",
    "    {'location': [41.3280, 19.8190], 'color': color_missing, 'tooltip': 'Missing Data Bus Stop'}\n",
    "]\n",
    "\n",
    "# Create maps\n",
    "map1 = create_map(elements=example_elements)\n",
    "map2 = create_map(elements=example_elements)\n",
    "map3 = create_map(elements=example_elements)\n",
    "\n",
    "# Convert maps to widgets\n",
    "map1_widget = widgets.HTML(value=map1._repr_html_(), placeholder='Map 1')\n",
    "map2_widget = widgets.HTML(value=map2._repr_html_(), placeholder='Map 2')\n",
    "map3_widget = widgets.HTML(value=map3._repr_html_(), placeholder='Map 3')\n",
    "\n",
    "# Group maps in tabs\n",
    "tab1 = widgets.VBox([map1_widget, map2_widget])\n",
    "tab2 = widgets.VBox([map3_widget])\n",
    "\n",
    "# Create tab widget\n",
    "tab_widget = widgets.Tab(children=[tab1, tab2])\n",
    "tab_widget.set_title(0, 'Public Transport')\n",
    "tab_widget.set_title(1, 'Cycling Infrastructure')\n",
    "\n",
    "# Display the tabs\n",
    "display(tab_widget)"
   ]
  },
  {
   "cell_type": "code",
   "execution_count": 74,
   "id": "bca7f435-681d-4217-aca6-4836ffdc7fe2",
   "metadata": {},
   "outputs": [
    {
     "ename": "KeyError",
     "evalue": "'elements'",
     "output_type": "error",
     "traceback": [
      "\u001b[0;31m---------------------------------------------------------------------------\u001b[0m",
      "\u001b[0;31mKeyError\u001b[0m                                  Traceback (most recent call last)",
      "File \u001b[0;32m~/Desktop/SUTi/assets/georesilience/venv/lib/python3.12/site-packages/pandas/core/indexes/base.py:3805\u001b[0m, in \u001b[0;36mIndex.get_loc\u001b[0;34m(self, key)\u001b[0m\n\u001b[1;32m   3804\u001b[0m \u001b[38;5;28;01mtry\u001b[39;00m:\n\u001b[0;32m-> 3805\u001b[0m     \u001b[38;5;28;01mreturn\u001b[39;00m \u001b[38;5;28;43mself\u001b[39;49m\u001b[38;5;241;43m.\u001b[39;49m\u001b[43m_engine\u001b[49m\u001b[38;5;241;43m.\u001b[39;49m\u001b[43mget_loc\u001b[49m\u001b[43m(\u001b[49m\u001b[43mcasted_key\u001b[49m\u001b[43m)\u001b[49m\n\u001b[1;32m   3806\u001b[0m \u001b[38;5;28;01mexcept\u001b[39;00m \u001b[38;5;167;01mKeyError\u001b[39;00m \u001b[38;5;28;01mas\u001b[39;00m err:\n",
      "File \u001b[0;32mindex.pyx:167\u001b[0m, in \u001b[0;36mpandas._libs.index.IndexEngine.get_loc\u001b[0;34m()\u001b[0m\n",
      "File \u001b[0;32mindex.pyx:196\u001b[0m, in \u001b[0;36mpandas._libs.index.IndexEngine.get_loc\u001b[0;34m()\u001b[0m\n",
      "File \u001b[0;32mpandas/_libs/hashtable_class_helper.pxi:7081\u001b[0m, in \u001b[0;36mpandas._libs.hashtable.PyObjectHashTable.get_item\u001b[0;34m()\u001b[0m\n",
      "File \u001b[0;32mpandas/_libs/hashtable_class_helper.pxi:7089\u001b[0m, in \u001b[0;36mpandas._libs.hashtable.PyObjectHashTable.get_item\u001b[0;34m()\u001b[0m\n",
      "\u001b[0;31mKeyError\u001b[0m: 'elements'",
      "\nThe above exception was the direct cause of the following exception:\n",
      "\u001b[0;31mKeyError\u001b[0m                                  Traceback (most recent call last)",
      "Cell \u001b[0;32mIn[74], line 2\u001b[0m\n\u001b[1;32m      1\u001b[0m \u001b[38;5;28;01mfrom\u001b[39;00m \u001b[38;5;21;01mcollections\u001b[39;00m \u001b[38;5;28;01mimport\u001b[39;00m Counter\n\u001b[0;32m----> 2\u001b[0m Counter([i[\u001b[38;5;124m'\u001b[39m\u001b[38;5;124mtype\u001b[39m\u001b[38;5;124m'\u001b[39m] \u001b[38;5;28;01mfor\u001b[39;00m i \u001b[38;5;129;01min\u001b[39;00m \u001b[43mdata\u001b[49m\u001b[43m[\u001b[49m\u001b[38;5;124;43m'\u001b[39;49m\u001b[38;5;124;43melements\u001b[39;49m\u001b[38;5;124;43m'\u001b[39;49m\u001b[43m]\u001b[49m])\n",
      "File \u001b[0;32m~/Desktop/SUTi/assets/georesilience/venv/lib/python3.12/site-packages/pandas/core/frame.py:4102\u001b[0m, in \u001b[0;36mDataFrame.__getitem__\u001b[0;34m(self, key)\u001b[0m\n\u001b[1;32m   4100\u001b[0m \u001b[38;5;28;01mif\u001b[39;00m \u001b[38;5;28mself\u001b[39m\u001b[38;5;241m.\u001b[39mcolumns\u001b[38;5;241m.\u001b[39mnlevels \u001b[38;5;241m>\u001b[39m \u001b[38;5;241m1\u001b[39m:\n\u001b[1;32m   4101\u001b[0m     \u001b[38;5;28;01mreturn\u001b[39;00m \u001b[38;5;28mself\u001b[39m\u001b[38;5;241m.\u001b[39m_getitem_multilevel(key)\n\u001b[0;32m-> 4102\u001b[0m indexer \u001b[38;5;241m=\u001b[39m \u001b[38;5;28;43mself\u001b[39;49m\u001b[38;5;241;43m.\u001b[39;49m\u001b[43mcolumns\u001b[49m\u001b[38;5;241;43m.\u001b[39;49m\u001b[43mget_loc\u001b[49m\u001b[43m(\u001b[49m\u001b[43mkey\u001b[49m\u001b[43m)\u001b[49m\n\u001b[1;32m   4103\u001b[0m \u001b[38;5;28;01mif\u001b[39;00m is_integer(indexer):\n\u001b[1;32m   4104\u001b[0m     indexer \u001b[38;5;241m=\u001b[39m [indexer]\n",
      "File \u001b[0;32m~/Desktop/SUTi/assets/georesilience/venv/lib/python3.12/site-packages/pandas/core/indexes/base.py:3812\u001b[0m, in \u001b[0;36mIndex.get_loc\u001b[0;34m(self, key)\u001b[0m\n\u001b[1;32m   3807\u001b[0m     \u001b[38;5;28;01mif\u001b[39;00m \u001b[38;5;28misinstance\u001b[39m(casted_key, \u001b[38;5;28mslice\u001b[39m) \u001b[38;5;129;01mor\u001b[39;00m (\n\u001b[1;32m   3808\u001b[0m         \u001b[38;5;28misinstance\u001b[39m(casted_key, abc\u001b[38;5;241m.\u001b[39mIterable)\n\u001b[1;32m   3809\u001b[0m         \u001b[38;5;129;01mand\u001b[39;00m \u001b[38;5;28many\u001b[39m(\u001b[38;5;28misinstance\u001b[39m(x, \u001b[38;5;28mslice\u001b[39m) \u001b[38;5;28;01mfor\u001b[39;00m x \u001b[38;5;129;01min\u001b[39;00m casted_key)\n\u001b[1;32m   3810\u001b[0m     ):\n\u001b[1;32m   3811\u001b[0m         \u001b[38;5;28;01mraise\u001b[39;00m InvalidIndexError(key)\n\u001b[0;32m-> 3812\u001b[0m     \u001b[38;5;28;01mraise\u001b[39;00m \u001b[38;5;167;01mKeyError\u001b[39;00m(key) \u001b[38;5;28;01mfrom\u001b[39;00m \u001b[38;5;21;01merr\u001b[39;00m\n\u001b[1;32m   3813\u001b[0m \u001b[38;5;28;01mexcept\u001b[39;00m \u001b[38;5;167;01mTypeError\u001b[39;00m:\n\u001b[1;32m   3814\u001b[0m     \u001b[38;5;66;03m# If we have a listlike key, _check_indexing_error will raise\u001b[39;00m\n\u001b[1;32m   3815\u001b[0m     \u001b[38;5;66;03m#  InvalidIndexError. Otherwise we fall through and re-raise\u001b[39;00m\n\u001b[1;32m   3816\u001b[0m     \u001b[38;5;66;03m#  the TypeError.\u001b[39;00m\n\u001b[1;32m   3817\u001b[0m     \u001b[38;5;28mself\u001b[39m\u001b[38;5;241m.\u001b[39m_check_indexing_error(key)\n",
      "\u001b[0;31mKeyError\u001b[0m: 'elements'"
     ]
    }
   ],
   "source": [
    "from collections import Counter\n",
    "Counter([i['type'] for i in data['elements']])"
   ]
  },
  {
   "cell_type": "code",
   "execution_count": 72,
   "id": "37abaa66-4b45-4628-acf6-c66c06ea3380",
   "metadata": {},
   "outputs": [
    {
     "data": {
      "text/html": [
       "<div style=\"width:100%;\"><div style=\"position:relative;width:100%;height:0;padding-bottom:60%;\"><span style=\"color:#565656\">Make this Notebook Trusted to load map: File -> Trust Notebook</span><iframe srcdoc=\"&lt;!DOCTYPE html&gt;\n",
       "&lt;html&gt;\n",
       "&lt;head&gt;\n",
       "    \n",
       "    &lt;meta http-equiv=&quot;content-type&quot; content=&quot;text/html; charset=UTF-8&quot; /&gt;\n",
       "    \n",
       "        &lt;script&gt;\n",
       "            L_NO_TOUCH = false;\n",
       "            L_DISABLE_3D = false;\n",
       "        &lt;/script&gt;\n",
       "    \n",
       "    &lt;style&gt;html, body {width: 100%;height: 100%;margin: 0;padding: 0;}&lt;/style&gt;\n",
       "    &lt;style&gt;#map {position:absolute;top:0;bottom:0;right:0;left:0;}&lt;/style&gt;\n",
       "    &lt;script src=&quot;https://cdn.jsdelivr.net/npm/leaflet@1.9.3/dist/leaflet.js&quot;&gt;&lt;/script&gt;\n",
       "    &lt;script src=&quot;https://code.jquery.com/jquery-3.7.1.min.js&quot;&gt;&lt;/script&gt;\n",
       "    &lt;script src=&quot;https://cdn.jsdelivr.net/npm/bootstrap@5.2.2/dist/js/bootstrap.bundle.min.js&quot;&gt;&lt;/script&gt;\n",
       "    &lt;script src=&quot;https://cdnjs.cloudflare.com/ajax/libs/Leaflet.awesome-markers/2.0.2/leaflet.awesome-markers.js&quot;&gt;&lt;/script&gt;\n",
       "    &lt;link rel=&quot;stylesheet&quot; href=&quot;https://cdn.jsdelivr.net/npm/leaflet@1.9.3/dist/leaflet.css&quot;/&gt;\n",
       "    &lt;link rel=&quot;stylesheet&quot; href=&quot;https://cdn.jsdelivr.net/npm/bootstrap@5.2.2/dist/css/bootstrap.min.css&quot;/&gt;\n",
       "    &lt;link rel=&quot;stylesheet&quot; href=&quot;https://netdna.bootstrapcdn.com/bootstrap/3.0.0/css/bootstrap-glyphicons.css&quot;/&gt;\n",
       "    &lt;link rel=&quot;stylesheet&quot; href=&quot;https://cdn.jsdelivr.net/npm/@fortawesome/fontawesome-free@6.2.0/css/all.min.css&quot;/&gt;\n",
       "    &lt;link rel=&quot;stylesheet&quot; href=&quot;https://cdnjs.cloudflare.com/ajax/libs/Leaflet.awesome-markers/2.0.2/leaflet.awesome-markers.css&quot;/&gt;\n",
       "    &lt;link rel=&quot;stylesheet&quot; href=&quot;https://cdn.jsdelivr.net/gh/python-visualization/folium/folium/templates/leaflet.awesome.rotate.min.css&quot;/&gt;\n",
       "    \n",
       "            &lt;meta name=&quot;viewport&quot; content=&quot;width=device-width,\n",
       "                initial-scale=1.0, maximum-scale=1.0, user-scalable=no&quot; /&gt;\n",
       "            &lt;style&gt;\n",
       "                #map_56a25f30874f16b94cf1e76e040102f7 {\n",
       "                    position: relative;\n",
       "                    width: 100.0%;\n",
       "                    height: 100.0%;\n",
       "                    left: 0.0%;\n",
       "                    top: 0.0%;\n",
       "                }\n",
       "                .leaflet-container { font-size: 1rem; }\n",
       "            &lt;/style&gt;\n",
       "        \n",
       "&lt;/head&gt;\n",
       "&lt;body&gt;\n",
       "    \n",
       "    \n",
       "    &lt;div style=&quot;position: fixed; \n",
       "                bottom: 50px; left: 50px; width: 200px; height: 120px; \n",
       "                border:2px solid grey; z-index:9999; font-size:14px;\n",
       "                background-color:white; padding: 10px;&quot;&gt;\n",
       "        &lt;b&gt;Legend:&lt;/b&gt;&lt;br&gt;\n",
       "        &lt;i style=&quot;background:#008000; width: 10px; height: 10px; display: inline-block;&quot;&gt;&lt;/i&gt; Good (Green)&lt;br&gt;\n",
       "        &lt;i style=&quot;background:#FF0000; width: 10px; height: 10px; display: inline-block;&quot;&gt;&lt;/i&gt; Bad (Red)&lt;br&gt;\n",
       "        &lt;i style=&quot;background:#FFFF00; width: 10px; height: 10px; display: inline-block;&quot;&gt;&lt;/i&gt; Missing Data (Yellow)&lt;br&gt;\n",
       "    &lt;/div&gt;\n",
       "    \n",
       "    \n",
       "            &lt;div class=&quot;folium-map&quot; id=&quot;map_56a25f30874f16b94cf1e76e040102f7&quot; &gt;&lt;/div&gt;\n",
       "        \n",
       "&lt;/body&gt;\n",
       "&lt;script&gt;\n",
       "    \n",
       "    \n",
       "            var map_56a25f30874f16b94cf1e76e040102f7 = L.map(\n",
       "                &quot;map_56a25f30874f16b94cf1e76e040102f7&quot;,\n",
       "                {\n",
       "                    center: [41.3275, 19.8189],\n",
       "                    crs: L.CRS.EPSG3857,\n",
       "                    zoom: 13,\n",
       "                    zoomControl: true,\n",
       "                    preferCanvas: false,\n",
       "                }\n",
       "            );\n",
       "\n",
       "            \n",
       "\n",
       "        \n",
       "    \n",
       "            var tile_layer_05875e7ddd45404ddf1961f867c337f0 = L.tileLayer(\n",
       "                &quot;https://tile.openstreetmap.org/{z}/{x}/{y}.png&quot;,\n",
       "                {&quot;attribution&quot;: &quot;\\u0026copy; \\u003ca href=\\&quot;https://www.openstreetmap.org/copyright\\&quot;\\u003eOpenStreetMap\\u003c/a\\u003e contributors&quot;, &quot;detectRetina&quot;: false, &quot;maxNativeZoom&quot;: 19, &quot;maxZoom&quot;: 19, &quot;minZoom&quot;: 0, &quot;noWrap&quot;: false, &quot;opacity&quot;: 1, &quot;subdomains&quot;: &quot;abc&quot;, &quot;tms&quot;: false}\n",
       "            );\n",
       "        \n",
       "    \n",
       "            tile_layer_05875e7ddd45404ddf1961f867c337f0.addTo(map_56a25f30874f16b94cf1e76e040102f7);\n",
       "        \n",
       "    \n",
       "            var circle_marker_725a24328df146222a66ccec8f996b6a = L.circleMarker(\n",
       "                [41.3275, 19.8189],\n",
       "                {&quot;bubblingMouseEvents&quot;: true, &quot;color&quot;: &quot;#008000&quot;, &quot;dashArray&quot;: null, &quot;dashOffset&quot;: null, &quot;fill&quot;: true, &quot;fillColor&quot;: &quot;#008000&quot;, &quot;fillOpacity&quot;: 0.7, &quot;fillRule&quot;: &quot;evenodd&quot;, &quot;lineCap&quot;: &quot;round&quot;, &quot;lineJoin&quot;: &quot;round&quot;, &quot;opacity&quot;: 1.0, &quot;radius&quot;: 5, &quot;stroke&quot;: true, &quot;weight&quot;: 3}\n",
       "            ).addTo(map_56a25f30874f16b94cf1e76e040102f7);\n",
       "        \n",
       "    \n",
       "            circle_marker_725a24328df146222a66ccec8f996b6a.bindTooltip(\n",
       "                `&lt;div&gt;\n",
       "                     Good Bus Stop\n",
       "                 &lt;/div&gt;`,\n",
       "                {&quot;sticky&quot;: true}\n",
       "            );\n",
       "        \n",
       "    \n",
       "            var circle_marker_4b404d2d20988b5b25c641e339a66571 = L.circleMarker(\n",
       "                [41.33, 19.82],\n",
       "                {&quot;bubblingMouseEvents&quot;: true, &quot;color&quot;: &quot;#FF0000&quot;, &quot;dashArray&quot;: null, &quot;dashOffset&quot;: null, &quot;fill&quot;: true, &quot;fillColor&quot;: &quot;#FF0000&quot;, &quot;fillOpacity&quot;: 0.7, &quot;fillRule&quot;: &quot;evenodd&quot;, &quot;lineCap&quot;: &quot;round&quot;, &quot;lineJoin&quot;: &quot;round&quot;, &quot;opacity&quot;: 1.0, &quot;radius&quot;: 5, &quot;stroke&quot;: true, &quot;weight&quot;: 3}\n",
       "            ).addTo(map_56a25f30874f16b94cf1e76e040102f7);\n",
       "        \n",
       "    \n",
       "            circle_marker_4b404d2d20988b5b25c641e339a66571.bindTooltip(\n",
       "                `&lt;div&gt;\n",
       "                     Bad Bus Stop\n",
       "                 &lt;/div&gt;`,\n",
       "                {&quot;sticky&quot;: true}\n",
       "            );\n",
       "        \n",
       "    \n",
       "            var circle_marker_abd52f131ee4a7619ed8ca0f27d92dee = L.circleMarker(\n",
       "                [41.328, 19.819],\n",
       "                {&quot;bubblingMouseEvents&quot;: true, &quot;color&quot;: &quot;#FFFF00&quot;, &quot;dashArray&quot;: null, &quot;dashOffset&quot;: null, &quot;fill&quot;: true, &quot;fillColor&quot;: &quot;#FFFF00&quot;, &quot;fillOpacity&quot;: 0.7, &quot;fillRule&quot;: &quot;evenodd&quot;, &quot;lineCap&quot;: &quot;round&quot;, &quot;lineJoin&quot;: &quot;round&quot;, &quot;opacity&quot;: 1.0, &quot;radius&quot;: 5, &quot;stroke&quot;: true, &quot;weight&quot;: 3}\n",
       "            ).addTo(map_56a25f30874f16b94cf1e76e040102f7);\n",
       "        \n",
       "    \n",
       "            circle_marker_abd52f131ee4a7619ed8ca0f27d92dee.bindTooltip(\n",
       "                `&lt;div&gt;\n",
       "                     Missing Data Bus Stop\n",
       "                 &lt;/div&gt;`,\n",
       "                {&quot;sticky&quot;: true}\n",
       "            );\n",
       "        \n",
       "    \n",
       "            tile_layer_05875e7ddd45404ddf1961f867c337f0.addTo(map_56a25f30874f16b94cf1e76e040102f7);\n",
       "        \n",
       "&lt;/script&gt;\n",
       "&lt;/html&gt;\" style=\"position:absolute;width:100%;height:100%;left:0;top:0;border:none !important;\" allowfullscreen webkitallowfullscreen mozallowfullscreen></iframe></div></div>"
      ],
      "text/plain": [
       "<folium.folium.Map at 0x7c4b519d6bd0>"
      ]
     },
     "execution_count": 72,
     "metadata": {},
     "output_type": "execute_result"
    }
   ],
   "source": []
  }
 ],
 "metadata": {
  "kernelspec": {
   "display_name": "Python 3 (ipykernel)",
   "language": "python",
   "name": "python3"
  },
  "language_info": {
   "codemirror_mode": {
    "name": "ipython",
    "version": 3
   },
   "file_extension": ".py",
   "mimetype": "text/x-python",
   "name": "python",
   "nbconvert_exporter": "python",
   "pygments_lexer": "ipython3",
   "version": "3.12.3"
  }
 },
 "nbformat": 4,
 "nbformat_minor": 5
}
